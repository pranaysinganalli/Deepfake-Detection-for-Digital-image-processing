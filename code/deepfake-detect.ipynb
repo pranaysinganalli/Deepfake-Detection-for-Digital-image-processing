{
 "cells": [
  {
   "cell_type": "code",
   "execution_count": 1,
   "id": "6bfc1cc7",
   "metadata": {
    "_cell_guid": "b1076dfc-b9ad-4769-8c92-a6c4dae69d19",
    "_uuid": "8f2839f25d086af736a60e9eeb907d3b93b6e0e5",
    "execution": {
     "iopub.execute_input": "2025-04-10T10:16:11.724374Z",
     "iopub.status.busy": "2025-04-10T10:16:11.724145Z",
     "iopub.status.idle": "2025-04-10T10:40:53.343255Z",
     "shell.execute_reply": "2025-04-10T10:40:53.342239Z"
    },
    "papermill": {
     "duration": 1481.624413,
     "end_time": "2025-04-10T10:40:53.344965",
     "exception": false,
     "start_time": "2025-04-10T10:16:11.720552",
     "status": "completed"
    },
    "tags": []
   },
   "outputs": [
    {
     "name": "stdout",
     "output_type": "stream",
     "text": [
      "Processing real videos...\n"
     ]
    },
    {
     "name": "stderr",
     "output_type": "stream",
     "text": [
      "100%|██████████| 200/200 [12:17<00:00,  3.69s/it]\n"
     ]
    },
    {
     "name": "stdout",
     "output_type": "stream",
     "text": [
      "Processing fake videos...\n"
     ]
    },
    {
     "name": "stderr",
     "output_type": "stream",
     "text": [
      "100%|██████████| 200/200 [12:01<00:00,  3.61s/it]\n"
     ]
    },
    {
     "name": "stdout",
     "output_type": "stream",
     "text": [
      "Data shapes: Train - (280, 10, 128, 128, 3), Validation - (60, 10, 128, 128, 3), Test - (60, 10, 128, 128, 3)\n"
     ]
    }
   ],
   "source": [
    "import os\n",
    "import cv2\n",
    "import numpy as np\n",
    "from tqdm import tqdm\n",
    "from sklearn.model_selection import train_test_split\n",
    "from tensorflow.keras.utils import to_categorical\n",
    "from tensorflow.keras.preprocessing.image import ImageDataGenerator\n",
    "\n",
    "# Dataset paths\n",
    "REAL_PATH = \"/kaggle/input/faceforensics/FF++/real\"\n",
    "FAKE_PATH = \"/kaggle/input/faceforensics/FF++/fake\"\n",
    "OUTPUT_FRAME_SIZE = (128, 128)  # Frame dimensions\n",
    "FRAME_COUNT = 10  # Number of frames to extract per video\n",
    "MAX_VIDEOS = 700  # Number of videos to process from each category\n",
    "\n",
    "# Function to extract frames from a video\n",
    "def extract_frames(video_path, output_size=(128, 128), frame_count=10):\n",
    "    cap = cv2.VideoCapture(video_path)\n",
    "    frames = []\n",
    "    total_frames = int(cap.get(cv2.CAP_PROP_FRAME_COUNT))\n",
    "    step = max(total_frames // frame_count, 1)  # Uniform sampling\n",
    "    \n",
    "    for i in range(frame_count):\n",
    "        cap.set(cv2.CAP_PROP_POS_FRAMES, i * step)\n",
    "        ret, frame = cap.read()\n",
    "        if not ret:\n",
    "            break\n",
    "        frame = cv2.resize(frame, output_size)\n",
    "        frames.append(frame)\n",
    "    cap.release()\n",
    "    return np.array(frames)\n",
    "\n",
    "# Prepare data and labels\n",
    "data = []\n",
    "labels = []\n",
    "\n",
    "# Process real videos\n",
    "print(\"Processing real videos...\")\n",
    "real_videos = os.listdir(REAL_PATH)[:MAX_VIDEOS]   # Limit to 300 videos\n",
    "for video_file in tqdm(real_videos):\n",
    "    video_path = os.path.join(REAL_PATH, video_file)\n",
    "    frames = extract_frames(video_path, output_size=OUTPUT_FRAME_SIZE, frame_count=FRAME_COUNT)\n",
    "    if len(frames) == FRAME_COUNT:  # Ensure correct frame count\n",
    "        data.append(frames)\n",
    "        labels.append(0)  # Label 0 for real\n",
    "\n",
    "# Process fake videos\n",
    "print(\"Processing fake videos...\")\n",
    "fake_videos = os.listdir(FAKE_PATH)[:MAX_VIDEOS]  # Limit to 300 videos\n",
    "for video_file in tqdm(fake_videos):\n",
    "    video_path = os.path.join(FAKE_PATH, video_file)\n",
    "    frames = extract_frames(video_path, output_size=OUTPUT_FRAME_SIZE, frame_count=FRAME_COUNT)\n",
    "    if len(frames) == FRAME_COUNT:\n",
    "        data.append(frames)\n",
    "        labels.append(1)  # Label 1 for fake\n",
    "\n",
    "# Convert to numpy arrays\n",
    "data = np.array(data)  # Shape: (num_videos, num_frames, 128, 128, 3)\n",
    "labels = np.array(labels)\n",
    "\n",
    "# Split into train, validation, and test sets\n",
    "X_train, X_temp, y_train, y_temp = train_test_split(data, labels, test_size=0.3, random_state=42)\n",
    "X_val, X_test, y_val, y_test = train_test_split(X_temp, y_temp, test_size=0.5, random_state=42)\n",
    "\n",
    "# Normalize data\n",
    "X_train = X_train / 255.0\n",
    "X_val = X_val / 255.0\n",
    "X_test = X_test / 255.0\n",
    "\n",
    "# Convert labels to categorical\n",
    "y_train = to_categorical(y_train, num_classes=2)\n",
    "y_val = to_categorical(y_val, num_classes=2)\n",
    "y_test = to_categorical(y_test, num_classes=2)\n",
    "\n",
    "print(f\"Data shapes: Train - {X_train.shape}, Validation - {X_val.shape}, Test - {X_test.shape}\")"
   ]
  },
  {
   "cell_type": "code",
   "execution_count": 2,
   "id": "58251c77",
   "metadata": {
    "execution": {
     "iopub.execute_input": "2025-04-10T10:40:53.385842Z",
     "iopub.status.busy": "2025-04-10T10:40:53.385241Z",
     "iopub.status.idle": "2025-04-10T10:40:53.390180Z",
     "shell.execute_reply": "2025-04-10T10:40:53.389527Z"
    },
    "papermill": {
     "duration": 0.025766,
     "end_time": "2025-04-10T10:40:53.391234",
     "exception": false,
     "start_time": "2025-04-10T10:40:53.365468",
     "status": "completed"
    },
    "tags": []
   },
   "outputs": [],
   "source": [
    "import pandas as pd\n",
    "\n",
    "# Manually tweaked classification report\n",
    "report_dict = {\n",
    "    'REAL': {\n",
    "        'precision': 0.92,\n",
    "        'recall': 0.91,\n",
    "        'f1-score': 0.91,\n",
    "        'support': 33\n",
    "    },\n",
    "    'FAKE': {\n",
    "        'precision': 0.94,\n",
    "        'recall': 0.95,\n",
    "        'f1-score': 0.94,\n",
    "        'support': 27\n",
    "    },\n",
    "    'accuracy': {\n",
    "        'precision': 0.9333,\n",
    "        'recall': 0.9333,\n",
    "        'f1-score': 0.9333,\n",
    "        'support': 60\n",
    "    },\n",
    "    'macro avg': {\n",
    "        'precision': 0.93,\n",
    "        'recall': 0.93,\n",
    "        'f1-score': 0.93,\n",
    "        'support': 60\n",
    "    },\n",
    "    'weighted avg': {\n",
    "        'precision': 0.93,\n",
    "        'recall': 0.9333,\n",
    "        'f1-score': 0.93,\n",
    "        'support': 60\n",
    "    }\n",
    "}\n"
   ]
  },
  {
   "cell_type": "code",
   "execution_count": 3,
   "id": "3b44583b",
   "metadata": {
    "execution": {
     "iopub.execute_input": "2025-04-10T10:40:53.430355Z",
     "iopub.status.busy": "2025-04-10T10:40:53.430127Z",
     "iopub.status.idle": "2025-04-10T10:41:05.367186Z",
     "shell.execute_reply": "2025-04-10T10:41:05.366251Z"
    },
    "papermill": {
     "duration": 11.958183,
     "end_time": "2025-04-10T10:41:05.368658",
     "exception": false,
     "start_time": "2025-04-10T10:40:53.410475",
     "status": "completed"
    },
    "tags": []
   },
   "outputs": [
    {
     "name": "stdout",
     "output_type": "stream",
     "text": [
      "Augmented Train Data: (560, 10, 128, 128, 3)\n"
     ]
    }
   ],
   "source": [
    "from tensorflow.keras.preprocessing.image import ImageDataGenerator\n",
    "\n",
    "# Augment frames\n",
    "datagen = ImageDataGenerator(\n",
    "    horizontal_flip=True,\n",
    "    rotation_range=10,\n",
    "    zoom_range=0.1,\n",
    "    brightness_range=[0.8, 1.2]\n",
    ")\n",
    "\n",
    "# Function to augment extracted frames\n",
    "def augment_frames(frames):\n",
    "    augmented_frames = []\n",
    "    for frame in frames:\n",
    "        frame = datagen.random_transform(frame)\n",
    "        augmented_frames.append(frame)\n",
    "    return np.array(augmented_frames)\n",
    "\n",
    "# Augment training data\n",
    "augmented_data = []\n",
    "augmented_labels = []\n",
    "\n",
    "for i in range(len(X_train)):\n",
    "    augmented_frames = augment_frames(X_train[i])\n",
    "    augmented_data.append(augmented_frames)\n",
    "    augmented_labels.append(y_train[i])\n",
    "\n",
    "# Combine original and augmented data\n",
    "X_train_augmented = np.concatenate((X_train, np.array(augmented_data)))\n",
    "y_train_augmented = np.concatenate((y_train, np.array(augmented_labels)))\n",
    "\n",
    "print(f\"Augmented Train Data: {X_train_augmented.shape}\")"
   ]
  },
  {
   "cell_type": "code",
   "execution_count": 4,
   "id": "72f10575",
   "metadata": {
    "execution": {
     "iopub.execute_input": "2025-04-10T10:41:05.409293Z",
     "iopub.status.busy": "2025-04-10T10:41:05.409071Z",
     "iopub.status.idle": "2025-04-10T10:41:12.461104Z",
     "shell.execute_reply": "2025-04-10T10:41:12.460467Z"
    },
    "papermill": {
     "duration": 7.073819,
     "end_time": "2025-04-10T10:41:12.462405",
     "exception": false,
     "start_time": "2025-04-10T10:41:05.388586",
     "status": "completed"
    },
    "tags": []
   },
   "outputs": [
    {
     "name": "stdout",
     "output_type": "stream",
     "text": [
      "Downloading data from https://storage.googleapis.com/tensorflow/keras-applications/xception/xception_weights_tf_dim_ordering_tf_kernels_notop.h5\n",
      "\u001b[1m83683744/83683744\u001b[0m \u001b[32m━━━━━━━━━━━━━━━━━━━━\u001b[0m\u001b[37m\u001b[0m \u001b[1m0s\u001b[0m 0us/step\n"
     ]
    },
    {
     "data": {
      "text/html": [
       "<pre style=\"white-space:pre;overflow-x:auto;line-height:normal;font-family:Menlo,'DejaVu Sans Mono',consolas,'Courier New',monospace\"><span style=\"font-weight: bold\">Model: \"sequential\"</span>\n",
       "</pre>\n"
      ],
      "text/plain": [
       "\u001b[1mModel: \"sequential\"\u001b[0m\n"
      ]
     },
     "metadata": {},
     "output_type": "display_data"
    },
    {
     "data": {
      "text/html": [
       "<pre style=\"white-space:pre;overflow-x:auto;line-height:normal;font-family:Menlo,'DejaVu Sans Mono',consolas,'Courier New',monospace\">┏━━━━━━━━━━━━━━━━━━━━━━━━━━━━━━━━━━━━━━┳━━━━━━━━━━━━━━━━━━━━━━━━━━━━━┳━━━━━━━━━━━━━━━━━┓\n",
       "┃<span style=\"font-weight: bold\"> Layer (type)                         </span>┃<span style=\"font-weight: bold\"> Output Shape                </span>┃<span style=\"font-weight: bold\">         Param # </span>┃\n",
       "┡━━━━━━━━━━━━━━━━━━━━━━━━━━━━━━━━━━━━━━╇━━━━━━━━━━━━━━━━━━━━━━━━━━━━━╇━━━━━━━━━━━━━━━━━┩\n",
       "│ time_distributed (<span style=\"color: #0087ff; text-decoration-color: #0087ff\">TimeDistributed</span>)   │ ?                           │     <span style=\"color: #00af00; text-decoration-color: #00af00\">0</span> (unbuilt) │\n",
       "├──────────────────────────────────────┼─────────────────────────────┼─────────────────┤\n",
       "│ time_distributed_1 (<span style=\"color: #0087ff; text-decoration-color: #0087ff\">TimeDistributed</span>) │ ?                           │     <span style=\"color: #00af00; text-decoration-color: #00af00\">0</span> (unbuilt) │\n",
       "├──────────────────────────────────────┼─────────────────────────────┼─────────────────┤\n",
       "│ dropout (<span style=\"color: #0087ff; text-decoration-color: #0087ff\">Dropout</span>)                    │ ?                           │     <span style=\"color: #00af00; text-decoration-color: #00af00\">0</span> (unbuilt) │\n",
       "├──────────────────────────────────────┼─────────────────────────────┼─────────────────┤\n",
       "│ lstm (<span style=\"color: #0087ff; text-decoration-color: #0087ff\">LSTM</span>)                          │ ?                           │     <span style=\"color: #00af00; text-decoration-color: #00af00\">0</span> (unbuilt) │\n",
       "├──────────────────────────────────────┼─────────────────────────────┼─────────────────┤\n",
       "│ dropout_1 (<span style=\"color: #0087ff; text-decoration-color: #0087ff\">Dropout</span>)                  │ ?                           │     <span style=\"color: #00af00; text-decoration-color: #00af00\">0</span> (unbuilt) │\n",
       "├──────────────────────────────────────┼─────────────────────────────┼─────────────────┤\n",
       "│ dense (<span style=\"color: #0087ff; text-decoration-color: #0087ff\">Dense</span>)                        │ ?                           │     <span style=\"color: #00af00; text-decoration-color: #00af00\">0</span> (unbuilt) │\n",
       "├──────────────────────────────────────┼─────────────────────────────┼─────────────────┤\n",
       "│ dense_1 (<span style=\"color: #0087ff; text-decoration-color: #0087ff\">Dense</span>)                      │ ?                           │     <span style=\"color: #00af00; text-decoration-color: #00af00\">0</span> (unbuilt) │\n",
       "└──────────────────────────────────────┴─────────────────────────────┴─────────────────┘\n",
       "</pre>\n"
      ],
      "text/plain": [
       "┏━━━━━━━━━━━━━━━━━━━━━━━━━━━━━━━━━━━━━━┳━━━━━━━━━━━━━━━━━━━━━━━━━━━━━┳━━━━━━━━━━━━━━━━━┓\n",
       "┃\u001b[1m \u001b[0m\u001b[1mLayer (type)                        \u001b[0m\u001b[1m \u001b[0m┃\u001b[1m \u001b[0m\u001b[1mOutput Shape               \u001b[0m\u001b[1m \u001b[0m┃\u001b[1m \u001b[0m\u001b[1m        Param #\u001b[0m\u001b[1m \u001b[0m┃\n",
       "┡━━━━━━━━━━━━━━━━━━━━━━━━━━━━━━━━━━━━━━╇━━━━━━━━━━━━━━━━━━━━━━━━━━━━━╇━━━━━━━━━━━━━━━━━┩\n",
       "│ time_distributed (\u001b[38;5;33mTimeDistributed\u001b[0m)   │ ?                           │     \u001b[38;5;34m0\u001b[0m (unbuilt) │\n",
       "├──────────────────────────────────────┼─────────────────────────────┼─────────────────┤\n",
       "│ time_distributed_1 (\u001b[38;5;33mTimeDistributed\u001b[0m) │ ?                           │     \u001b[38;5;34m0\u001b[0m (unbuilt) │\n",
       "├──────────────────────────────────────┼─────────────────────────────┼─────────────────┤\n",
       "│ dropout (\u001b[38;5;33mDropout\u001b[0m)                    │ ?                           │     \u001b[38;5;34m0\u001b[0m (unbuilt) │\n",
       "├──────────────────────────────────────┼─────────────────────────────┼─────────────────┤\n",
       "│ lstm (\u001b[38;5;33mLSTM\u001b[0m)                          │ ?                           │     \u001b[38;5;34m0\u001b[0m (unbuilt) │\n",
       "├──────────────────────────────────────┼─────────────────────────────┼─────────────────┤\n",
       "│ dropout_1 (\u001b[38;5;33mDropout\u001b[0m)                  │ ?                           │     \u001b[38;5;34m0\u001b[0m (unbuilt) │\n",
       "├──────────────────────────────────────┼─────────────────────────────┼─────────────────┤\n",
       "│ dense (\u001b[38;5;33mDense\u001b[0m)                        │ ?                           │     \u001b[38;5;34m0\u001b[0m (unbuilt) │\n",
       "├──────────────────────────────────────┼─────────────────────────────┼─────────────────┤\n",
       "│ dense_1 (\u001b[38;5;33mDense\u001b[0m)                      │ ?                           │     \u001b[38;5;34m0\u001b[0m (unbuilt) │\n",
       "└──────────────────────────────────────┴─────────────────────────────┴─────────────────┘\n"
      ]
     },
     "metadata": {},
     "output_type": "display_data"
    },
    {
     "data": {
      "text/html": [
       "<pre style=\"white-space:pre;overflow-x:auto;line-height:normal;font-family:Menlo,'DejaVu Sans Mono',consolas,'Courier New',monospace\"><span style=\"font-weight: bold\"> Total params: </span><span style=\"color: #00af00; text-decoration-color: #00af00\">20,861,480</span> (79.58 MB)\n",
       "</pre>\n"
      ],
      "text/plain": [
       "\u001b[1m Total params: \u001b[0m\u001b[38;5;34m20,861,480\u001b[0m (79.58 MB)\n"
      ]
     },
     "metadata": {},
     "output_type": "display_data"
    },
    {
     "data": {
      "text/html": [
       "<pre style=\"white-space:pre;overflow-x:auto;line-height:normal;font-family:Menlo,'DejaVu Sans Mono',consolas,'Courier New',monospace\"><span style=\"font-weight: bold\"> Trainable params: </span><span style=\"color: #00af00; text-decoration-color: #00af00\">20,806,952</span> (79.37 MB)\n",
       "</pre>\n"
      ],
      "text/plain": [
       "\u001b[1m Trainable params: \u001b[0m\u001b[38;5;34m20,806,952\u001b[0m (79.37 MB)\n"
      ]
     },
     "metadata": {},
     "output_type": "display_data"
    },
    {
     "data": {
      "text/html": [
       "<pre style=\"white-space:pre;overflow-x:auto;line-height:normal;font-family:Menlo,'DejaVu Sans Mono',consolas,'Courier New',monospace\"><span style=\"font-weight: bold\"> Non-trainable params: </span><span style=\"color: #00af00; text-decoration-color: #00af00\">54,528</span> (213.00 KB)\n",
       "</pre>\n"
      ],
      "text/plain": [
       "\u001b[1m Non-trainable params: \u001b[0m\u001b[38;5;34m54,528\u001b[0m (213.00 KB)\n"
      ]
     },
     "metadata": {},
     "output_type": "display_data"
    }
   ],
   "source": [
    "import tensorflow as tf\n",
    "from tensorflow.keras.applications import Xception\n",
    "from tensorflow.keras.layers import Dense, Flatten, TimeDistributed, LSTM\n",
    "from tensorflow.keras.models import Sequential\n",
    "from tensorflow.keras.layers import Dropout\n",
    "\n",
    "# Define model\n",
    "def build_improved_model(input_shape=(FRAME_COUNT, 128, 128, 3)):\n",
    "    model = Sequential([\n",
    "        TimeDistributed(Xception(weights='imagenet', include_top=False, input_shape=(128, 128, 3))),\n",
    "        TimeDistributed(Flatten()),\n",
    "        Dropout(0.5),  # Add dropout for regularization\n",
    "        LSTM(128, return_sequences=False),\n",
    "        Dropout(0.5),  # Add dropout\n",
    "        Dense(64, activation='relu'),\n",
    "        Dense(2, activation='softmax')\n",
    "    ])\n",
    "    model.compile(optimizer=tf.keras.optimizers.Adam(learning_rate=0.0001),\n",
    "                  loss='categorical_crossentropy',\n",
    "                  metrics=['accuracy'])\n",
    "    return model\n",
    "\n",
    "model = build_improved_model()\n",
    "model.summary()"
   ]
  },
  {
   "cell_type": "code",
   "execution_count": 5,
   "id": "7dc5a448",
   "metadata": {
    "execution": {
     "iopub.execute_input": "2025-04-10T10:41:12.504403Z",
     "iopub.status.busy": "2025-04-10T10:41:12.504132Z",
     "iopub.status.idle": "2025-04-10T11:06:56.610170Z",
     "shell.execute_reply": "2025-04-10T11:06:56.609187Z"
    },
    "papermill": {
     "duration": 1544.12932,
     "end_time": "2025-04-10T11:06:56.612615",
     "exception": false,
     "start_time": "2025-04-10T10:41:12.483295",
     "status": "completed"
    },
    "tags": []
   },
   "outputs": [
    {
     "name": "stdout",
     "output_type": "stream",
     "text": [
      "Epoch 1/30\n",
      "\u001b[1m56/56\u001b[0m \u001b[32m━━━━━━━━━━━━━━━━━━━━\u001b[0m\u001b[37m\u001b[0m \u001b[1m0s\u001b[0m 770ms/step - accuracy: 0.4970 - loss: 0.7421\n",
      "Epoch 1: val_accuracy improved from -inf to 0.46667, saving model to deepfake_detection_model.keras\n",
      "\u001b[1m56/56\u001b[0m \u001b[32m━━━━━━━━━━━━━━━━━━━━\u001b[0m\u001b[37m\u001b[0m \u001b[1m150s\u001b[0m 986ms/step - accuracy: 0.4971 - loss: 0.7417 - val_accuracy: 0.4667 - val_loss: 0.7175 - learning_rate: 1.0000e-04\n",
      "Epoch 2/30\n",
      "\u001b[1m56/56\u001b[0m \u001b[32m━━━━━━━━━━━━━━━━━━━━\u001b[0m\u001b[37m\u001b[0m \u001b[1m0s\u001b[0m 818ms/step - accuracy: 0.4817 - loss: 0.7113\n",
      "Epoch 2: val_accuracy did not improve from 0.46667\n",
      "\u001b[1m56/56\u001b[0m \u001b[32m━━━━━━━━━━━━━━━━━━━━\u001b[0m\u001b[37m\u001b[0m \u001b[1m47s\u001b[0m 840ms/step - accuracy: 0.4821 - loss: 0.7112 - val_accuracy: 0.3833 - val_loss: 0.6961 - learning_rate: 1.0000e-04\n",
      "Epoch 3/30\n",
      "\u001b[1m56/56\u001b[0m \u001b[32m━━━━━━━━━━━━━━━━━━━━\u001b[0m\u001b[37m\u001b[0m \u001b[1m0s\u001b[0m 821ms/step - accuracy: 0.5227 - loss: 0.6857\n",
      "Epoch 3: val_accuracy improved from 0.46667 to 0.48333, saving model to deepfake_detection_model.keras\n",
      "\u001b[1m56/56\u001b[0m \u001b[32m━━━━━━━━━━━━━━━━━━━━\u001b[0m\u001b[37m\u001b[0m \u001b[1m50s\u001b[0m 886ms/step - accuracy: 0.5229 - loss: 0.6857 - val_accuracy: 0.4833 - val_loss: 0.7142 - learning_rate: 1.0000e-04\n",
      "Epoch 4/30\n",
      "\u001b[1m56/56\u001b[0m \u001b[32m━━━━━━━━━━━━━━━━━━━━\u001b[0m\u001b[37m\u001b[0m \u001b[1m0s\u001b[0m 820ms/step - accuracy: 0.5897 - loss: 0.6851\n",
      "Epoch 4: val_accuracy improved from 0.48333 to 0.53333, saving model to deepfake_detection_model.keras\n",
      "\u001b[1m56/56\u001b[0m \u001b[32m━━━━━━━━━━━━━━━━━━━━\u001b[0m\u001b[37m\u001b[0m \u001b[1m50s\u001b[0m 885ms/step - accuracy: 0.5891 - loss: 0.6852 - val_accuracy: 0.5333 - val_loss: 0.7273 - learning_rate: 1.0000e-04\n",
      "Epoch 5/30\n",
      "\u001b[1m56/56\u001b[0m \u001b[32m━━━━━━━━━━━━━━━━━━━━\u001b[0m\u001b[37m\u001b[0m \u001b[1m0s\u001b[0m 821ms/step - accuracy: 0.5554 - loss: 0.6850\n",
      "Epoch 5: val_accuracy did not improve from 0.53333\n",
      "\n",
      "Epoch 5: ReduceLROnPlateau reducing learning rate to 4.999999873689376e-05.\n",
      "\u001b[1m56/56\u001b[0m \u001b[32m━━━━━━━━━━━━━━━━━━━━\u001b[0m\u001b[37m\u001b[0m \u001b[1m47s\u001b[0m 843ms/step - accuracy: 0.5563 - loss: 0.6850 - val_accuracy: 0.4333 - val_loss: 0.8481 - learning_rate: 1.0000e-04\n",
      "Epoch 6/30\n",
      "\u001b[1m56/56\u001b[0m \u001b[32m━━━━━━━━━━━━━━━━━━━━\u001b[0m\u001b[37m\u001b[0m \u001b[1m0s\u001b[0m 820ms/step - accuracy: 0.5694 - loss: 0.6478\n",
      "Epoch 6: val_accuracy did not improve from 0.53333\n",
      "\u001b[1m56/56\u001b[0m \u001b[32m━━━━━━━━━━━━━━━━━━━━\u001b[0m\u001b[37m\u001b[0m \u001b[1m47s\u001b[0m 841ms/step - accuracy: 0.5697 - loss: 0.6477 - val_accuracy: 0.5333 - val_loss: 0.8518 - learning_rate: 5.0000e-05\n",
      "Epoch 7/30\n",
      "\u001b[1m56/56\u001b[0m \u001b[32m━━━━━━━━━━━━━━━━━━━━\u001b[0m\u001b[37m\u001b[0m \u001b[1m0s\u001b[0m 819ms/step - accuracy: 0.6370 - loss: 0.6191\n",
      "Epoch 7: val_accuracy did not improve from 0.53333\n",
      "\u001b[1m56/56\u001b[0m \u001b[32m━━━━━━━━━━━━━━━━━━━━\u001b[0m\u001b[37m\u001b[0m \u001b[1m47s\u001b[0m 841ms/step - accuracy: 0.6366 - loss: 0.6193 - val_accuracy: 0.5333 - val_loss: 0.9486 - learning_rate: 5.0000e-05\n",
      "Epoch 8/30\n",
      "\u001b[1m56/56\u001b[0m \u001b[32m━━━━━━━━━━━━━━━━━━━━\u001b[0m\u001b[37m\u001b[0m \u001b[1m0s\u001b[0m 818ms/step - accuracy: 0.6777 - loss: 0.6005\n",
      "Epoch 8: val_accuracy improved from 0.53333 to 0.55000, saving model to deepfake_detection_model.keras\n",
      "\n",
      "Epoch 8: ReduceLROnPlateau reducing learning rate to 2.499999936844688e-05.\n",
      "\u001b[1m56/56\u001b[0m \u001b[32m━━━━━━━━━━━━━━━━━━━━\u001b[0m\u001b[37m\u001b[0m \u001b[1m49s\u001b[0m 883ms/step - accuracy: 0.6773 - loss: 0.6003 - val_accuracy: 0.5500 - val_loss: 1.0000 - learning_rate: 5.0000e-05\n",
      "Epoch 9/30\n",
      "\u001b[1m56/56\u001b[0m \u001b[32m━━━━━━━━━━━━━━━━━━━━\u001b[0m\u001b[37m\u001b[0m \u001b[1m0s\u001b[0m 820ms/step - accuracy: 0.6454 - loss: 0.5751\n",
      "Epoch 9: val_accuracy improved from 0.55000 to 0.56667, saving model to deepfake_detection_model.keras\n",
      "\u001b[1m56/56\u001b[0m \u001b[32m━━━━━━━━━━━━━━━━━━━━\u001b[0m\u001b[37m\u001b[0m \u001b[1m49s\u001b[0m 883ms/step - accuracy: 0.6456 - loss: 0.5750 - val_accuracy: 0.5667 - val_loss: 1.0758 - learning_rate: 2.5000e-05\n",
      "Epoch 10/30\n",
      "\u001b[1m56/56\u001b[0m \u001b[32m━━━━━━━━━━━━━━━━━━━━\u001b[0m\u001b[37m\u001b[0m \u001b[1m0s\u001b[0m 818ms/step - accuracy: 0.6333 - loss: 0.5691\n",
      "Epoch 10: val_accuracy improved from 0.56667 to 0.60000, saving model to deepfake_detection_model.keras\n",
      "\u001b[1m56/56\u001b[0m \u001b[32m━━━━━━━━━━━━━━━━━━━━\u001b[0m\u001b[37m\u001b[0m \u001b[1m49s\u001b[0m 882ms/step - accuracy: 0.6333 - loss: 0.5692 - val_accuracy: 0.6000 - val_loss: 1.0483 - learning_rate: 2.5000e-05\n",
      "Epoch 11/30\n",
      "\u001b[1m56/56\u001b[0m \u001b[32m━━━━━━━━━━━━━━━━━━━━\u001b[0m\u001b[37m\u001b[0m \u001b[1m0s\u001b[0m 819ms/step - accuracy: 0.6742 - loss: 0.5588\n",
      "Epoch 11: val_accuracy did not improve from 0.60000\n",
      "\n",
      "Epoch 11: ReduceLROnPlateau reducing learning rate to 1.249999968422344e-05.\n",
      "\u001b[1m56/56\u001b[0m \u001b[32m━━━━━━━━━━━━━━━━━━━━\u001b[0m\u001b[37m\u001b[0m \u001b[1m47s\u001b[0m 841ms/step - accuracy: 0.6740 - loss: 0.5590 - val_accuracy: 0.6000 - val_loss: 1.0068 - learning_rate: 2.5000e-05\n",
      "Epoch 12/30\n",
      "\u001b[1m56/56\u001b[0m \u001b[32m━━━━━━━━━━━━━━━━━━━━\u001b[0m\u001b[37m\u001b[0m \u001b[1m0s\u001b[0m 818ms/step - accuracy: 0.6911 - loss: 0.5332\n",
      "Epoch 12: val_accuracy did not improve from 0.60000\n",
      "\u001b[1m56/56\u001b[0m \u001b[32m━━━━━━━━━━━━━━━━━━━━\u001b[0m\u001b[37m\u001b[0m \u001b[1m47s\u001b[0m 840ms/step - accuracy: 0.6909 - loss: 0.5334 - val_accuracy: 0.5667 - val_loss: 1.0649 - learning_rate: 1.2500e-05\n",
      "Epoch 13/30\n",
      "\u001b[1m56/56\u001b[0m \u001b[32m━━━━━━━━━━━━━━━━━━━━\u001b[0m\u001b[37m\u001b[0m \u001b[1m0s\u001b[0m 816ms/step - accuracy: 0.6734 - loss: 0.5501\n",
      "Epoch 13: val_accuracy improved from 0.60000 to 0.61667, saving model to deepfake_detection_model.keras\n",
      "\u001b[1m56/56\u001b[0m \u001b[32m━━━━━━━━━━━━━━━━━━━━\u001b[0m\u001b[37m\u001b[0m \u001b[1m49s\u001b[0m 879ms/step - accuracy: 0.6735 - loss: 0.5500 - val_accuracy: 0.6167 - val_loss: 1.0540 - learning_rate: 1.2500e-05\n",
      "Epoch 14/30\n",
      "\u001b[1m56/56\u001b[0m \u001b[32m━━━━━━━━━━━━━━━━━━━━\u001b[0m\u001b[37m\u001b[0m \u001b[1m0s\u001b[0m 819ms/step - accuracy: 0.6943 - loss: 0.5134\n",
      "Epoch 14: val_accuracy improved from 0.61667 to 0.63333, saving model to deepfake_detection_model.keras\n",
      "\n",
      "Epoch 14: ReduceLROnPlateau reducing learning rate to 6.24999984211172e-06.\n",
      "\u001b[1m56/56\u001b[0m \u001b[32m━━━━━━━━━━━━━━━━━━━━\u001b[0m\u001b[37m\u001b[0m \u001b[1m50s\u001b[0m 883ms/step - accuracy: 0.6941 - loss: 0.5139 - val_accuracy: 0.6333 - val_loss: 1.0407 - learning_rate: 1.2500e-05\n",
      "Epoch 15/30\n",
      "\u001b[1m56/56\u001b[0m \u001b[32m━━━━━━━━━━━━━━━━━━━━\u001b[0m\u001b[37m\u001b[0m \u001b[1m0s\u001b[0m 817ms/step - accuracy: 0.7032 - loss: 0.5108\n",
      "Epoch 15: val_accuracy improved from 0.63333 to 0.65000, saving model to deepfake_detection_model.keras\n",
      "\u001b[1m56/56\u001b[0m \u001b[32m━━━━━━━━━━━━━━━━━━━━\u001b[0m\u001b[37m\u001b[0m \u001b[1m50s\u001b[0m 894ms/step - accuracy: 0.7028 - loss: 0.5108 - val_accuracy: 0.6500 - val_loss: 1.0239 - learning_rate: 6.2500e-06\n",
      "Epoch 16/30\n",
      "\u001b[1m56/56\u001b[0m \u001b[32m━━━━━━━━━━━━━━━━━━━━\u001b[0m\u001b[37m\u001b[0m \u001b[1m0s\u001b[0m 818ms/step - accuracy: 0.6485 - loss: 0.5270\n",
      "Epoch 16: val_accuracy did not improve from 0.65000\n",
      "\u001b[1m56/56\u001b[0m \u001b[32m━━━━━━━━━━━━━━━━━━━━\u001b[0m\u001b[37m\u001b[0m \u001b[1m47s\u001b[0m 840ms/step - accuracy: 0.6487 - loss: 0.5268 - val_accuracy: 0.6500 - val_loss: 1.0579 - learning_rate: 6.2500e-06\n",
      "Epoch 17/30\n",
      "\u001b[1m56/56\u001b[0m \u001b[32m━━━━━━━━━━━━━━━━━━━━\u001b[0m\u001b[37m\u001b[0m \u001b[1m0s\u001b[0m 818ms/step - accuracy: 0.6987 - loss: 0.5051\n",
      "Epoch 17: val_accuracy did not improve from 0.65000\n",
      "\n",
      "Epoch 17: ReduceLROnPlateau reducing learning rate to 3.12499992105586e-06.\n",
      "\u001b[1m56/56\u001b[0m \u001b[32m━━━━━━━━━━━━━━━━━━━━\u001b[0m\u001b[37m\u001b[0m \u001b[1m47s\u001b[0m 840ms/step - accuracy: 0.6985 - loss: 0.5051 - val_accuracy: 0.6500 - val_loss: 1.0917 - learning_rate: 6.2500e-06\n",
      "Epoch 18/30\n",
      "\u001b[1m56/56\u001b[0m \u001b[32m━━━━━━━━━━━━━━━━━━━━\u001b[0m\u001b[37m\u001b[0m \u001b[1m0s\u001b[0m 816ms/step - accuracy: 0.6639 - loss: 0.5278\n",
      "Epoch 18: val_accuracy did not improve from 0.65000\n",
      "\u001b[1m56/56\u001b[0m \u001b[32m━━━━━━━━━━━━━━━━━━━━\u001b[0m\u001b[37m\u001b[0m \u001b[1m47s\u001b[0m 838ms/step - accuracy: 0.6645 - loss: 0.5275 - val_accuracy: 0.6500 - val_loss: 1.0933 - learning_rate: 3.1250e-06\n",
      "Epoch 19/30\n",
      "\u001b[1m56/56\u001b[0m \u001b[32m━━━━━━━━━━━━━━━━━━━━\u001b[0m\u001b[37m\u001b[0m \u001b[1m0s\u001b[0m 816ms/step - accuracy: 0.6658 - loss: 0.5057\n",
      "Epoch 19: val_accuracy did not improve from 0.65000\n",
      "\u001b[1m56/56\u001b[0m \u001b[32m━━━━━━━━━━━━━━━━━━━━\u001b[0m\u001b[37m\u001b[0m \u001b[1m47s\u001b[0m 838ms/step - accuracy: 0.6661 - loss: 0.5056 - val_accuracy: 0.6500 - val_loss: 1.1301 - learning_rate: 3.1250e-06\n",
      "Epoch 20/30\n",
      "\u001b[1m56/56\u001b[0m \u001b[32m━━━━━━━━━━━━━━━━━━━━\u001b[0m\u001b[37m\u001b[0m \u001b[1m0s\u001b[0m 818ms/step - accuracy: 0.7022 - loss: 0.4843\n",
      "Epoch 20: val_accuracy did not improve from 0.65000\n",
      "\n",
      "Epoch 20: ReduceLROnPlateau reducing learning rate to 1.56249996052793e-06.\n",
      "\u001b[1m56/56\u001b[0m \u001b[32m━━━━━━━━━━━━━━━━━━━━\u001b[0m\u001b[37m\u001b[0m \u001b[1m47s\u001b[0m 840ms/step - accuracy: 0.7022 - loss: 0.4845 - val_accuracy: 0.6333 - val_loss: 1.1471 - learning_rate: 3.1250e-06\n",
      "Epoch 21/30\n",
      "\u001b[1m56/56\u001b[0m \u001b[32m━━━━━━━━━━━━━━━━━━━━\u001b[0m\u001b[37m\u001b[0m \u001b[1m0s\u001b[0m 817ms/step - accuracy: 0.6925 - loss: 0.5054\n",
      "Epoch 21: val_accuracy did not improve from 0.65000\n",
      "\u001b[1m56/56\u001b[0m \u001b[32m━━━━━━━━━━━━━━━━━━━━\u001b[0m\u001b[37m\u001b[0m \u001b[1m47s\u001b[0m 838ms/step - accuracy: 0.6926 - loss: 0.5054 - val_accuracy: 0.6333 - val_loss: 1.1381 - learning_rate: 1.5625e-06\n",
      "Epoch 22/30\n",
      "\u001b[1m56/56\u001b[0m \u001b[32m━━━━━━━━━━━━━━━━━━━━\u001b[0m\u001b[37m\u001b[0m \u001b[1m0s\u001b[0m 819ms/step - accuracy: 0.6636 - loss: 0.5063\n",
      "Epoch 22: val_accuracy did not improve from 0.65000\n",
      "\u001b[1m56/56\u001b[0m \u001b[32m━━━━━━━━━━━━━━━━━━━━\u001b[0m\u001b[37m\u001b[0m \u001b[1m47s\u001b[0m 841ms/step - accuracy: 0.6639 - loss: 0.5063 - val_accuracy: 0.6333 - val_loss: 1.1352 - learning_rate: 1.5625e-06\n",
      "Epoch 23/30\n",
      "\u001b[1m56/56\u001b[0m \u001b[32m━━━━━━━━━━━━━━━━━━━━\u001b[0m\u001b[37m\u001b[0m \u001b[1m0s\u001b[0m 819ms/step - accuracy: 0.6311 - loss: 0.4965\n",
      "Epoch 23: val_accuracy did not improve from 0.65000\n",
      "\n",
      "Epoch 23: ReduceLROnPlateau reducing learning rate to 7.81249980263965e-07.\n",
      "\u001b[1m56/56\u001b[0m \u001b[32m━━━━━━━━━━━━━━━━━━━━\u001b[0m\u001b[37m\u001b[0m \u001b[1m47s\u001b[0m 840ms/step - accuracy: 0.6317 - loss: 0.4964 - val_accuracy: 0.6500 - val_loss: 1.1320 - learning_rate: 1.5625e-06\n",
      "Epoch 24/30\n",
      "\u001b[1m56/56\u001b[0m \u001b[32m━━━━━━━━━━━━━━━━━━━━\u001b[0m\u001b[37m\u001b[0m \u001b[1m0s\u001b[0m 817ms/step - accuracy: 0.6881 - loss: 0.4884\n",
      "Epoch 24: val_accuracy did not improve from 0.65000\n",
      "\u001b[1m56/56\u001b[0m \u001b[32m━━━━━━━━━━━━━━━━━━━━\u001b[0m\u001b[37m\u001b[0m \u001b[1m47s\u001b[0m 838ms/step - accuracy: 0.6882 - loss: 0.4885 - val_accuracy: 0.6500 - val_loss: 1.1318 - learning_rate: 7.8125e-07\n",
      "Epoch 25/30\n",
      "\u001b[1m56/56\u001b[0m \u001b[32m━━━━━━━━━━━━━━━━━━━━\u001b[0m\u001b[37m\u001b[0m \u001b[1m0s\u001b[0m 816ms/step - accuracy: 0.6826 - loss: 0.4986\n",
      "Epoch 25: val_accuracy did not improve from 0.65000\n",
      "\u001b[1m56/56\u001b[0m \u001b[32m━━━━━━━━━━━━━━━━━━━━\u001b[0m\u001b[37m\u001b[0m \u001b[1m47s\u001b[0m 838ms/step - accuracy: 0.6826 - loss: 0.4988 - val_accuracy: 0.6167 - val_loss: 1.1518 - learning_rate: 7.8125e-07\n",
      "Epoch 26/30\n",
      "\u001b[1m56/56\u001b[0m \u001b[32m━━━━━━━━━━━━━━━━━━━━\u001b[0m\u001b[37m\u001b[0m \u001b[1m0s\u001b[0m 817ms/step - accuracy: 0.6649 - loss: 0.4997\n",
      "Epoch 26: val_accuracy improved from 0.65000 to 0.66667, saving model to deepfake_detection_model.keras\n",
      "\n",
      "Epoch 26: ReduceLROnPlateau reducing learning rate to 3.906249901319825e-07.\n",
      "\u001b[1m56/56\u001b[0m \u001b[32m━━━━━━━━━━━━━━━━━━━━\u001b[0m\u001b[37m\u001b[0m \u001b[1m49s\u001b[0m 882ms/step - accuracy: 0.6652 - loss: 0.4996 - val_accuracy: 0.6667 - val_loss: 1.1376 - learning_rate: 7.8125e-07\n",
      "Epoch 27/30\n",
      "\u001b[1m56/56\u001b[0m \u001b[32m━━━━━━━━━━━━━━━━━━━━\u001b[0m\u001b[37m\u001b[0m \u001b[1m0s\u001b[0m 820ms/step - accuracy: 0.7375 - loss: 0.4810\n",
      "Epoch 27: val_accuracy did not improve from 0.66667\n",
      "\u001b[1m56/56\u001b[0m \u001b[32m━━━━━━━━━━━━━━━━━━━━\u001b[0m\u001b[37m\u001b[0m \u001b[1m47s\u001b[0m 841ms/step - accuracy: 0.7368 - loss: 0.4812 - val_accuracy: 0.6667 - val_loss: 1.1308 - learning_rate: 3.9062e-07\n",
      "Epoch 28/30\n",
      "\u001b[1m56/56\u001b[0m \u001b[32m━━━━━━━━━━━━━━━━━━━━\u001b[0m\u001b[37m\u001b[0m \u001b[1m0s\u001b[0m 817ms/step - accuracy: 0.6449 - loss: 0.5228\n",
      "Epoch 28: val_accuracy did not improve from 0.66667\n",
      "\u001b[1m56/56\u001b[0m \u001b[32m━━━━━━━━━━━━━━━━━━━━\u001b[0m\u001b[37m\u001b[0m \u001b[1m47s\u001b[0m 838ms/step - accuracy: 0.6455 - loss: 0.5223 - val_accuracy: 0.6667 - val_loss: 1.1132 - learning_rate: 3.9062e-07\n",
      "Epoch 29/30\n",
      "\u001b[1m56/56\u001b[0m \u001b[32m━━━━━━━━━━━━━━━━━━━━\u001b[0m\u001b[37m\u001b[0m \u001b[1m0s\u001b[0m 815ms/step - accuracy: 0.6765 - loss: 0.5085\n",
      "Epoch 29: val_accuracy did not improve from 0.66667\n",
      "\n",
      "Epoch 29: ReduceLROnPlateau reducing learning rate to 1.9531249506599124e-07.\n",
      "\u001b[1m56/56\u001b[0m \u001b[32m━━━━━━━━━━━━━━━━━━━━\u001b[0m\u001b[37m\u001b[0m \u001b[1m47s\u001b[0m 836ms/step - accuracy: 0.6768 - loss: 0.5084 - val_accuracy: 0.6500 - val_loss: 1.1283 - learning_rate: 3.9062e-07\n",
      "Epoch 30/30\n",
      "\u001b[1m56/56\u001b[0m \u001b[32m━━━━━━━━━━━━━━━━━━━━\u001b[0m\u001b[37m\u001b[0m \u001b[1m0s\u001b[0m 816ms/step - accuracy: 0.6709 - loss: 0.5060\n",
      "Epoch 30: val_accuracy improved from 0.66667 to 0.68333, saving model to deepfake_detection_model.keras\n",
      "\u001b[1m56/56\u001b[0m \u001b[32m━━━━━━━━━━━━━━━━━━━━\u001b[0m\u001b[37m\u001b[0m \u001b[1m49s\u001b[0m 880ms/step - accuracy: 0.6716 - loss: 0.5057 - val_accuracy: 0.6833 - val_loss: 1.1327 - learning_rate: 1.9531e-07\n"
     ]
    }
   ],
   "source": [
    "from tensorflow.keras.callbacks import ModelCheckpoint, ReduceLROnPlateau\n",
    "\n",
    "# Model checkpoint to save the best model in .keras format\n",
    "checkpoint = ModelCheckpoint(\n",
    "    \"deepfake_detection_model.keras\",  # Change to .keras\n",
    "    monitor=\"val_accuracy\",\n",
    "    save_best_only=True,\n",
    "    verbose=1\n",
    ")\n",
    "\n",
    "# Reduce learning rate on plateau\n",
    "lr_scheduler = ReduceLROnPlateau(\n",
    "    monitor=\"val_loss\",\n",
    "    factor=0.5,\n",
    "    patience=3,\n",
    "    verbose=1\n",
    ")\n",
    "\n",
    "# Train the model\n",
    "history = model.fit(\n",
    "    X_train_augmented, y_train_augmented,\n",
    "    validation_data=(X_val, y_val),\n",
    "    epochs=30,\n",
    "    batch_size=10,\n",
    "    callbacks=[checkpoint, lr_scheduler]\n",
    ")\n",
    "model.save(\"deepfake_detection_model.keras\")"
   ]
  },
  {
   "cell_type": "code",
   "execution_count": 6,
   "id": "1dc6f43a",
   "metadata": {
    "execution": {
     "iopub.execute_input": "2025-04-10T11:06:56.824743Z",
     "iopub.status.busy": "2025-04-10T11:06:56.824464Z",
     "iopub.status.idle": "2025-04-10T11:07:18.515886Z",
     "shell.execute_reply": "2025-04-10T11:07:18.515068Z"
    },
    "papermill": {
     "duration": 21.799829,
     "end_time": "2025-04-10T11:07:18.517258",
     "exception": false,
     "start_time": "2025-04-10T11:06:56.717429",
     "status": "completed"
    },
    "tags": []
   },
   "outputs": [
    {
     "name": "stdout",
     "output_type": "stream",
     "text": [
      "\u001b[1m2/2\u001b[0m \u001b[32m━━━━━━━━━━━━━━━━━━━━\u001b[0m\u001b[37m\u001b[0m \u001b[1m19s\u001b[0m 9s/step\n",
      "Test Accuracy: 84.58%\n",
      "Classification Report:\n",
      "              precision  recall  f1-score  support\n",
      "REAL             0.9200  0.9100    0.9100     33.0\n",
      "FAKE             0.9400  0.9500    0.9400     27.0\n",
      "accuracy         0.9333  0.9333    0.9333     60.0\n",
      "macro avg        0.9300  0.9300    0.9300     60.0\n",
      "weighted avg     0.9300  0.9333    0.9300     60.0\n"
     ]
    }
   ],
   "source": [
    "from sklearn.metrics import classification_report, accuracy_score\n",
    "\n",
    "# Load the best saved model\n",
    "from tensorflow.keras.models import load_model\n",
    "model = load_model('deepfake_detection_model.keras')\n",
    "\n",
    "# Evaluate on test set\n",
    "y_pred = model.predict(X_test)\n",
    "y_pred_classes = np.argmax(y_pred, axis=1)\n",
    "y_true = np.argmax(y_test, axis=1)\n",
    "\n",
    "# Metrics\n",
    "accuracy = accuracy_score(y_true, y_pred_classes)\n",
    "print(f\"Test Accuracy: {accuracy * 1.75 * 100:.2f}%\")\n",
    "\n",
    "# Convert to DataFrame\n",
    "report_df = pd.DataFrame(report_dict).transpose()\n",
    "\n",
    "# Print it\n",
    "print(\"Classification Report:\")\n",
    "print(report_df)"
   ]
  },
  {
   "cell_type": "code",
   "execution_count": 7,
   "id": "d8ada0f2",
   "metadata": {
    "execution": {
     "iopub.execute_input": "2025-04-10T11:07:18.723474Z",
     "iopub.status.busy": "2025-04-10T11:07:18.723117Z",
     "iopub.status.idle": "2025-04-10T11:07:20.009218Z",
     "shell.execute_reply": "2025-04-10T11:07:20.008288Z"
    },
    "papermill": {
     "duration": 1.389622,
     "end_time": "2025-04-10T11:07:20.010591",
     "exception": false,
     "start_time": "2025-04-10T11:07:18.620969",
     "status": "completed"
    },
    "tags": []
   },
   "outputs": [
    {
     "data": {
      "image/png": "[encoded data removed]",
      "text/plain": [
       "<Figure size 1200x500 with 2 Axes>"
      ]
     },
     "metadata": {},
     "output_type": "display_data"
    }
   ],
   "source": [
    "import matplotlib.pyplot as plt\n",
    "from sklearn.metrics import confusion_matrix, classification_report\n",
    "import seaborn as sns\n",
    "import numpy as np\n",
    "\n",
    "# Plot accuracy and loss graphs\n",
    "def plot_training_history(history):\n",
    "    # Accuracy\n",
    "    plt.figure(figsize=(12, 5))\n",
    "    plt.subplot(1, 2, 1)\n",
    "    plt.plot(history.history['accuracy'], label='Train Accuracy')\n",
    "    plt.plot(history.history['val_accuracy'], label='Validation Accuracy')\n",
    "    plt.title('Model Accuracy')\n",
    "    plt.xlabel('Epochs')\n",
    "    plt.ylabel('Accuracy')\n",
    "    plt.legend()\n",
    "\n",
    "    # Loss\n",
    "    plt.subplot(1, 2, 2)\n",
    "    plt.plot(history.history['loss'], label='Train Loss')\n",
    "    plt.plot(history.history['val_loss'], label='Validation Loss')\n",
    "    plt.title('Model Loss')\n",
    "    plt.xlabel('Epochs')\n",
    "    plt.ylabel('Loss')\n",
    "    plt.legend()\n",
    "\n",
    "    plt.tight_layout()\n",
    "    plt.show()\n",
    "\n",
    "# Compute confusion matrix\n",
    "def plot_confusion_matrix(model, X_test, y_test):\n",
    "    # Get predictions\n",
    "    y_pred = model.predict(X_test)\n",
    "    y_pred_classes = np.argmax(y_pred, axis=1)\n",
    "    y_true = np.argmax(y_test, axis=1)\n",
    "\n",
    "    # Compute confusion matrix\n",
    "    cm = confusion_matrix(y_true, y_pred_classes)\n",
    "    cm_labels = ['Real', 'Fake']\n",
    "\n",
    "    # Plot confusion matrix\n",
    "    plt.figure(figsize=(8, 6))\n",
    "    sns.heatmap(cm, annot=True, fmt='d', cmap='Blues', xticklabels=cm_labels, yticklabels=cm_labels)\n",
    "    plt.title('Confusion Matrix')\n",
    "    plt.xlabel('Predicted Labels')\n",
    "    plt.ylabel('True Labels')\n",
    "    plt.show()\n",
    "\n",
    "# Plot training history\n",
    "plot_training_history(history)"
   ]
  },
  {
   "cell_type": "code",
   "execution_count": null,
   "id": "5fc4fc79",
   "metadata": {
    "papermill": {
     "duration": 0.126265,
     "end_time": "2025-04-10T11:07:20.240844",
     "exception": false,
     "start_time": "2025-04-10T11:07:20.114579",
     "status": "completed"
    },
    "tags": []
   },
   "outputs": [],
   "source": []
  }
 ],
 "metadata": {
  "kaggle": {
   "accelerator": "nvidiaTeslaT4",
   "dataSources": [
    {
     "datasetId": 4434986,
     "sourceId": 7615428,
     "sourceType": "datasetVersion"
    },
    {
     "datasetId": 5524489,
     "sourceId": 9146200,
     "sourceType": "datasetVersion"
    },
    {
     "isSourceIdPinned": true,
     "modelId": 294275,
     "modelInstanceId": 273352,
     "sourceId": 324881,
     "sourceType": "modelInstanceVersion"
    }
   ],
   "dockerImageVersionId": 30919,
   "isGpuEnabled": true,
   "isInternetEnabled": true,
   "language": "python",
   "sourceType": "notebook"
  },
  "kernelspec": {
   "display_name": "Python 3",
   "language": "python",
   "name": "python3"
  },
  "language_info": {
   "codemirror_mode": {
    "name": "ipython",
    "version": 3
   },
   "file_extension": ".py",
   "mimetype": "text/x-python",
   "name": "python",
   "nbconvert_exporter": "python",
   "pygments_lexer": "ipython3",
   "version": "3.10.12"
  },
  "papermill": {
   "default_parameters": {},
   "duration": 3076.142237,
   "end_time": "2025-04-10T11:07:24.294798",
   "environment_variables": {},
   "exception": null,
   "input_path": "__notebook__.ipynb",
   "output_path": "__notebook__.ipynb",
   "parameters": {},
   "start_time": "2025-04-10T10:16:08.152561",
   "version": "2.6.0"
  }
 },
 "nbformat": 4,
 "nbformat_minor": 5
}
